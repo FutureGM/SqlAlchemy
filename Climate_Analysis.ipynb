{
 "cells": [
  {
   "cell_type": "code",
   "execution_count": 1,
   "metadata": {
    "collapsed": true
   },
   "outputs": [],
   "source": [
    "#Dependencies\n",
    "#To print summary statistics\n",
    "import pandas as pd\n",
    "#To visualize each analysis\n",
    "import matplotlib as plt\n",
    "#To create and manipulate MySQL Database Hawaii\n",
    "import sqlalchemy\n",
    "from sqlalchemy.ext.automap import automap_base\n",
    "from sqlalchemy.orm import Session\n",
    "from sqlalchemy import create_engine, inspect, func, MetaData\n",
    "from sqlalchemy.ext.declarative import declarative_base\n",
    "from sqlalchemy import Column, Integer, String, Date, Numeric, Text, Float\n",
    "#use Datetime import Datetime\n"
   ]
  },
  {
   "cell_type": "code",
   "execution_count": 2,
   "metadata": {
    "collapsed": true
   },
   "outputs": [],
   "source": [
    "# Step 3 - Climate Analysis and Exploration\n",
    "# You are now ready to use Python and SQLAlchemy to do basic climate analysis \n",
    "#and data exploration on your new weather station tables. \n",
    "#All of the following analysis should be completed using SQLAlchemy \n",
    "#ORM queries, Pandas, and Matplotlib.\n",
    "# Create a Jupyter Notebook file called climate_analysis.ipynb and use it to complete your climate analysis and data exporation."
   ]
  },
  {
   "cell_type": "code",
   "execution_count": 3,
   "metadata": {},
   "outputs": [],
   "source": [
    "#Use engine and connection to connect to database hawaii.sqlite\n",
    "hawaii_db = (\"sqlite:///hawaii.sqlite\")\n",
    "engine = create_engine(hawaii_db)\n",
    "connect = engine.con"
   ]
  },
  {
   "cell_type": "code",
   "execution_count": 5,
   "metadata": {},
   "outputs": [],
   "source": [
    "# Choose a start date and end date for your trip. Make sure that your vacation range is approximately 3-15 days total.\n",
    "# vacation start= 1\n",
    "# Use SQLAlchemy automap_base() to:\n",
    "Base = automap_base()\n",
    "#reflect your tables into classes and \n",
    "Base.prepare(engine, reflect=True) #Set true to cast reflection\n",
    "#save a reference to those classes called Station and Measurement.\n",
    "Base.classes.keys()\n",
    "#Variable reference for measurement\n",
    "measurement = Base.classes.measurement\n",
    "#Variable reference for Station\n",
    "station = Base.classes.station\n"
   ]
  },
  {
   "cell_type": "markdown",
   "metadata": {},
   "source": [
    "## Inspector"
   ]
  },
  {
   "cell_type": "code",
   "execution_count": 6,
   "metadata": {},
   "outputs": [
    {
     "data": {
      "text/plain": [
       "['measurement', 'station']"
      ]
     },
     "execution_count": 6,
     "metadata": {},
     "output_type": "execute_result"
    }
   ],
   "source": [
    "#Print Columns using Inspector\n",
    "inspector = inspect(engine)\n",
    "inspector.get_table_names()"
   ]
  },
  {
   "cell_type": "code",
   "execution_count": 7,
   "metadata": {},
   "outputs": [
    {
     "name": "stdout",
     "output_type": "stream",
     "text": [
      "id INTEGER\n",
      "station VARCHAR(250)\n",
      "date DATE\n",
      "prcp FLOAT\n",
      "tobs INTEGER\n"
     ]
    }
   ],
   "source": [
    "#Use inspector to check column names and TYPES\n",
    "columns = inspector.get_columns(\"measurement\")\n",
    "for column in columns:\n",
    "    print(column[\"name\"], column[\"type\"])"
   ]
  },
  {
   "cell_type": "code",
   "execution_count": 8,
   "metadata": {},
   "outputs": [
    {
     "data": {
      "text/plain": [
       "[]"
      ]
     },
     "execution_count": 8,
     "metadata": {},
     "output_type": "execute_result"
    }
   ],
   "source": [
    "engine.execute(\"SELECT * FROM measurement\").fetchall()"
   ]
  },
  {
   "cell_type": "markdown",
   "metadata": {},
   "source": [
    "## Precipitation Analysis"
   ]
  },
  {
   "cell_type": "code",
   "execution_count": null,
   "metadata": {
    "collapsed": true
   },
   "outputs": [],
   "source": [
    "# Design a query to retrieve the last 12 months of precipitation data.\n",
    "\n",
    "# Select only the date and prcp values.\n",
    "\n",
    "# Load the query results into a Pandas DataFrame and set the index to the date column.\n",
    "\n",
    "# Plot the results using the DataFrame plot method.\n",
    "\n",
    "# Use Pandas to print the summary statistics for the precipitation data.\n",
    "\n"
   ]
  },
  {
   "cell_type": "markdown",
   "metadata": {},
   "source": [
    "## Station Analysis"
   ]
  },
  {
   "cell_type": "code",
   "execution_count": null,
   "metadata": {
    "collapsed": true
   },
   "outputs": [],
   "source": [
    "# Design a query to calculate the total number of stations.\n",
    "\n",
    "# Design a query to find the most active stations.\n",
    "\n",
    "# List the stations and observation counts in descending order\n",
    "\n",
    "# Which station has the highest number of observations?\n",
    "\n",
    "# Design a query to retrieve the last 12 months of temperature observation data (tobs).\n",
    "\n",
    "# Filter by the station with the highest number of observations.\n",
    "\n",
    "# Plot the results as a histogram with bins=12.\n",
    "\n"
   ]
  },
  {
   "cell_type": "markdown",
   "metadata": {},
   "source": [
    "## Temperature Analysis"
   ]
  },
  {
   "cell_type": "code",
   "execution_count": null,
   "metadata": {
    "collapsed": true
   },
   "outputs": [],
   "source": [
    "\n",
    "# Write a function called calc_temps that will accept a start date and end date in the format %Y-%m-%d and return the minimum, average, and maximum temperatures for that range of dates.\n",
    "\n",
    "# Use the calc_temps function to calculate the min, avg, and max temperatures for your trip using the matching dates from the previous year (i.e. use \"2017-01-01\" if your trip start date was \"2018-01-01\")\n",
    "\n",
    "# Plot the min, avg, and max temperature from your previous query as a bar chart.\n",
    "\n",
    "# Use the average temperature as the bar height.\n",
    "\n",
    "# Use the peak-to-peak (tmax-tmin) value as the y error bar (yerr).\n",
    "\n"
   ]
  },
  {
   "cell_type": "markdown",
   "metadata": {},
   "source": [
    "## Optional Recommended Analysis"
   ]
  },
  {
   "cell_type": "code",
   "execution_count": null,
   "metadata": {
    "collapsed": true
   },
   "outputs": [],
   "source": [
    "\n",
    "# The following are optional challenge queries. These are highly recommended to attempt, but not required for the homework.\n",
    "\n",
    "# Calcualte the rainfall per weather station using the previous year's matching dates.\n",
    "# Calculate the daily normals. Normals are the averages for min, avg, and max temperatures.\n",
    "\n",
    "# Create a function called daily_normals that will calculate the daily normals for a specific date. This date string will be in the format %m-%d. Be sure to use all historic tobs that match that date string.\n",
    "\n",
    "# Create a list of dates for your trip in the format %m-%d. Use the daily_normals function to calculate the normals for each date string and append the results to a list.\n",
    "\n",
    "# Load the list of daily normals into a Pandas DataFrame and set the index equal to the date.\n",
    "\n",
    "# Use Pandas to plot an area plot (stacked=False) for the daily normals."
   ]
  }
 ],
 "metadata": {
  "kernelspec": {
   "display_name": "Python 3",
   "language": "python",
   "name": "python3"
  },
  "language_info": {
   "codemirror_mode": {
    "name": "ipython",
    "version": 3
   },
   "file_extension": ".py",
   "mimetype": "text/x-python",
   "name": "python",
   "nbconvert_exporter": "python",
   "pygments_lexer": "ipython3",
   "version": "3.6.3"
  }
 },
 "nbformat": 4,
 "nbformat_minor": 2
}
